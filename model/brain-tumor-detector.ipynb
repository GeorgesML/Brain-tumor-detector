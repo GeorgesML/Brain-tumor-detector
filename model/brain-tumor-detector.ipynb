{
 "cells": [
  {
   "cell_type": "code",
   "execution_count": 1,
   "metadata": {},
   "outputs": [
    {
     "data": {
      "text/plain": [
       "['no', 'yes']"
      ]
     },
     "execution_count": 1,
     "metadata": {},
     "output_type": "execute_result"
    }
   ],
   "source": [
    "import os\n",
    "\n",
    "ls = os.listdir\n",
    "ls('../dataset')"
   ]
  },
  {
   "cell_type": "code",
   "execution_count": 2,
   "metadata": {},
   "outputs": [
    {
     "name": "stdout",
     "output_type": "stream",
     "text": [
      "['no', 'yes']\n",
      "['no', 'yes']\n"
     ]
    }
   ],
   "source": [
    "train_dir = \"train\"\n",
    "val_dir = \"valid\"\n",
    "\n",
    "dirs = [\"train\",\"train/yes\", \"train/no\", \"valid\", \"valid/yes\", \"valid/no\"]\n",
    "\n",
    "for _dir in dirs:\n",
    "    if not os.path.exists(_dir):\n",
    "        os.mkdir(_dir)\n",
    "\n",
    "print(ls(\"train\"))\n",
    "print(ls(\"valid\"))"
   ]
  },
  {
   "cell_type": "code",
   "execution_count": 3,
   "metadata": {},
   "outputs": [],
   "source": [
    "imgs_yes = \"../dataset/yes\"\n",
    "imgs_no = \"../dataset/no\"\n",
    "\n",
    "part_yes = round(0.8 * len(ls(imgs_yes)))\n",
    "part_no = round(0.8 * len(ls(imgs_no)))\n",
    "\n",
    "train_yes = ls(imgs_yes)[0:part_yes]\n",
    "train_no = ls(imgs_no)[0:part_no]\n",
    "\n",
    "valid_yes = ls(imgs_yes)[part_yes:]\n",
    "valid_no = ls(imgs_no)[part_no:]\n",
    "\n",
    "for img in train_yes:\n",
    "    os.system(f\"cp {imgs_yes}/{img} train/yes/{img}\")\n",
    "    \n",
    "for img in train_no:\n",
    "    os.system(f\"cp {imgs_no}/{img} train/no/{img}\")\n",
    "    \n",
    "for img in valid_yes:\n",
    "    os.system(f\"cp {imgs_yes}/{img} valid/yes/{img}\")\n",
    "\n",
    "for img in valid_no:\n",
    "    os.system(f\"cp {imgs_no}/{img} valid/no/{img}\")"
   ]
  },
  {
   "cell_type": "code",
   "execution_count": 4,
   "metadata": {},
   "outputs": [],
   "source": [
    "training_dir = 'train/'\n",
    "valid_dir = \"valid/\""
   ]
  },
  {
   "cell_type": "code",
   "execution_count": 5,
   "metadata": {},
   "outputs": [
    {
     "name": "stdout",
     "output_type": "stream",
     "text": [
      "Found 147 images belonging to 2 classes.\n",
      "Found 36 images belonging to 2 classes.\n"
     ]
    }
   ],
   "source": [
    "from tensorflow.keras.preprocessing.image import ImageDataGenerator\n",
    "\n",
    "train_datagen = ImageDataGenerator(rescale=1./255,\n",
    "                                  rotation_range=20,\n",
    "                                  width_shift_range=0.2,\n",
    "                                  height_shift_range=0.2,\n",
    "                                  shear_range=0.2,\n",
    "                                  zoom_range=0.2,\n",
    "                                  horizontal_flip=True,\n",
    "                                  fill_mode='nearest'\n",
    "                                )\n",
    "\n",
    "valid_datagen = ImageDataGenerator(rescale=1./255)\n",
    "\n",
    "train_generator = train_datagen.flow_from_directory(\n",
    "    training_dir,\n",
    "    target_size=(300, 300),\n",
    "    class_mode='binary'\n",
    ")\n",
    "\n",
    "valid_generator = valid_datagen.flow_from_directory(\n",
    "    valid_dir,\n",
    "    target_size=(300, 300),\n",
    "    class_mode='binary'\n",
    ")"
   ]
  },
  {
   "cell_type": "code",
   "execution_count": 6,
   "metadata": {},
   "outputs": [
    {
     "name": "stdout",
     "output_type": "stream",
     "text": [
      "Model: \"sequential\"\n",
      "_________________________________________________________________\n",
      " Layer (type)                Output Shape              Param #   \n",
      "=================================================================\n",
      " conv2d (Conv2D)             (None, 298, 298, 16)      448       \n",
      "                                                                 \n",
      " max_pooling2d (MaxPooling2D  (None, 149, 149, 16)     0         \n",
      " )                                                               \n",
      "                                                                 \n",
      " conv2d_1 (Conv2D)           (None, 147, 147, 32)      4640      \n",
      "                                                                 \n",
      " max_pooling2d_1 (MaxPooling  (None, 73, 73, 32)       0         \n",
      " 2D)                                                             \n",
      "                                                                 \n",
      " conv2d_2 (Conv2D)           (None, 71, 71, 64)        18496     \n",
      "                                                                 \n",
      " max_pooling2d_2 (MaxPooling  (None, 35, 35, 64)       0         \n",
      " 2D)                                                             \n",
      "                                                                 \n",
      " conv2d_3 (Conv2D)           (None, 33, 33, 64)        36928     \n",
      "                                                                 \n",
      " max_pooling2d_3 (MaxPooling  (None, 16, 16, 64)       0         \n",
      " 2D)                                                             \n",
      "                                                                 \n",
      " conv2d_4 (Conv2D)           (None, 14, 14, 64)        36928     \n",
      "                                                                 \n",
      " max_pooling2d_4 (MaxPooling  (None, 7, 7, 64)         0         \n",
      " 2D)                                                             \n",
      "                                                                 \n",
      " flatten (Flatten)           (None, 3136)              0         \n",
      "                                                                 \n",
      " dense (Dense)               (None, 512)               1606144   \n",
      "                                                                 \n",
      " dense_1 (Dense)             (None, 1)                 513       \n",
      "                                                                 \n",
      "=================================================================\n",
      "Total params: 1,704,097\n",
      "Trainable params: 1,704,097\n",
      "Non-trainable params: 0\n",
      "_________________________________________________________________\n"
     ]
    }
   ],
   "source": [
    "import tensorflow as tf\n",
    "\n",
    "model = tf.keras.models.Sequential([\n",
    "    tf.keras.layers.Conv2D(16, (3,3), activation='relu', input_shape=(300,300,3)),\n",
    "    tf.keras.layers.MaxPooling2D(2, 2),\n",
    "    tf.keras.layers.Conv2D(32, (3,3), activation='relu'),\n",
    "    tf.keras.layers.MaxPooling2D(2, 2),\n",
    "    tf.keras.layers.Conv2D(64, (3,3), activation='relu'),\n",
    "    tf.keras.layers.MaxPooling2D(2, 2),\n",
    "    tf.keras.layers.Conv2D(64, (3,3), activation='relu'),\n",
    "    tf.keras.layers.MaxPooling2D(2, 2),\n",
    "    tf.keras.layers.Conv2D(64, (3,3), activation='relu'),\n",
    "    tf.keras.layers.MaxPooling2D(2, 2),\n",
    "    tf.keras.layers.Flatten(),\n",
    "    tf.keras.layers.Dense(512, activation='relu'),\n",
    "    tf.keras.layers.Dense(1, activation='sigmoid')\n",
    "])\n",
    "\n",
    "model.summary()"
   ]
  },
  {
   "cell_type": "code",
   "execution_count": 7,
   "metadata": {},
   "outputs": [
    {
     "name": "stdout",
     "output_type": "stream",
     "text": [
      "Epoch 1/20\n",
      "5/5 [==============================] - 6s 1s/step - loss: 0.5342 - accuracy: 0.7347 - val_loss: 0.4032 - val_accuracy: 0.8611\n",
      "Epoch 2/20\n",
      "5/5 [==============================] - 5s 1s/step - loss: 0.4570 - accuracy: 0.8435 - val_loss: 0.3945 - val_accuracy: 0.8611\n",
      "Epoch 3/20\n",
      "5/5 [==============================] - 5s 963ms/step - loss: 0.4465 - accuracy: 0.8435 - val_loss: 0.3915 - val_accuracy: 0.8611\n",
      "Epoch 4/20\n",
      "5/5 [==============================] - 6s 1s/step - loss: 0.4449 - accuracy: 0.8435 - val_loss: 0.3900 - val_accuracy: 0.8611\n",
      "Epoch 5/20\n",
      "5/5 [==============================] - 5s 930ms/step - loss: 0.4403 - accuracy: 0.8435 - val_loss: 0.3893 - val_accuracy: 0.8611\n",
      "Epoch 6/20\n",
      "5/5 [==============================] - 5s 1s/step - loss: 0.4372 - accuracy: 0.8435 - val_loss: 0.3916 - val_accuracy: 0.8611\n",
      "Epoch 7/20\n",
      "5/5 [==============================] - 5s 954ms/step - loss: 0.4398 - accuracy: 0.8435 - val_loss: 0.3912 - val_accuracy: 0.8611\n",
      "Epoch 8/20\n",
      "5/5 [==============================] - 5s 984ms/step - loss: 0.4607 - accuracy: 0.8435 - val_loss: 0.4293 - val_accuracy: 0.8611\n",
      "Epoch 9/20\n",
      "5/5 [==============================] - 5s 902ms/step - loss: 0.4480 - accuracy: 0.8435 - val_loss: 0.3941 - val_accuracy: 0.8611\n",
      "Epoch 10/20\n",
      "5/5 [==============================] - 5s 864ms/step - loss: 0.4287 - accuracy: 0.8435 - val_loss: 0.3846 - val_accuracy: 0.8611\n",
      "Epoch 11/20\n",
      "5/5 [==============================] - 5s 850ms/step - loss: 0.4401 - accuracy: 0.8435 - val_loss: 0.3822 - val_accuracy: 0.8611\n",
      "Epoch 12/20\n",
      "5/5 [==============================] - 5s 1s/step - loss: 0.4280 - accuracy: 0.8435 - val_loss: 0.3896 - val_accuracy: 0.8611\n",
      "Epoch 13/20\n",
      "5/5 [==============================] - 6s 1s/step - loss: 0.4362 - accuracy: 0.8435 - val_loss: 0.3913 - val_accuracy: 0.8611\n",
      "Epoch 14/20\n",
      "5/5 [==============================] - 6s 1s/step - loss: 0.4268 - accuracy: 0.8435 - val_loss: 0.4077 - val_accuracy: 0.8611\n",
      "Epoch 15/20\n",
      "5/5 [==============================] - 5s 967ms/step - loss: 0.4465 - accuracy: 0.8435 - val_loss: 0.3822 - val_accuracy: 0.8611\n",
      "Epoch 16/20\n",
      "5/5 [==============================] - 5s 964ms/step - loss: 0.4199 - accuracy: 0.8435 - val_loss: 0.3873 - val_accuracy: 0.8611\n",
      "Epoch 17/20\n",
      "5/5 [==============================] - 5s 987ms/step - loss: 0.4339 - accuracy: 0.8435 - val_loss: 0.3952 - val_accuracy: 0.8611\n",
      "Epoch 18/20\n",
      "5/5 [==============================] - 5s 1s/step - loss: 0.4351 - accuracy: 0.8435 - val_loss: 0.3753 - val_accuracy: 0.8611\n",
      "Epoch 19/20\n",
      "5/5 [==============================] - 5s 969ms/step - loss: 0.4171 - accuracy: 0.8435 - val_loss: 0.3674 - val_accuracy: 0.8611\n",
      "Epoch 20/20\n",
      "5/5 [==============================] - 5s 964ms/step - loss: 0.3988 - accuracy: 0.8435 - val_loss: 0.3439 - val_accuracy: 0.8611\n"
     ]
    }
   ],
   "source": [
    "model.compile(loss='binary_crossentropy',\n",
    "              optimizer='adam',\n",
    "              metrics=['accuracy'])\n",
    "\n",
    "history = model.fit(train_generator, epochs=20, validation_data=valid_generator)"
   ]
  },
  {
   "cell_type": "code",
   "execution_count": 8,
   "metadata": {},
   "outputs": [
    {
     "data": {
      "image/png": "[encoded data removed]",
      "text/plain": [
       "<Figure size 432x288 with 1 Axes>"
      ]
     },
     "metadata": {
      "needs_background": "light"
     },
     "output_type": "display_data"
    }
   ],
   "source": [
    "import matplotlib.pyplot as plt\n",
    "\n",
    "acc_train = history.history['accuracy']\n",
    "acc_val = history.history['val_accuracy']\n",
    "epochs = range(1,21)\n",
    "plt.plot(epochs,acc_train, 'g', label='training accuracy')\n",
    "plt.plot(epochs, acc_val, 'b', label= 'validation accuracy')\n",
    "plt.title('Training and Validation accuracy')\n",
    "plt.xlabel('Epochs')\n",
    "plt.ylabel('Accuracy')\n",
    "plt.legend()\n",
    "plt.show()"
   ]
  }
 ],
 "metadata": {
  "kernelspec": {
   "display_name": "Python 3",
   "language": "python",
   "name": "python3"
  },
  "language_info": {
   "codemirror_mode": {
    "name": "ipython",
    "version": 3
   },
   "file_extension": ".py",
   "mimetype": "text/x-python",
   "name": "python",
   "nbconvert_exporter": "python",
   "pygments_lexer": "ipython3",
   "version": "3.8.10"
  }
 },
 "nbformat": 4,
 "nbformat_minor": 5
}

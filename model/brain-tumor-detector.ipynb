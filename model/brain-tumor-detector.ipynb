{
 "cells": [
  {
   "cell_type": "markdown",
   "id": "d6a760fa",
   "metadata": {},
   "source": [
    "## Ordering data"
   ]
  },
  {
   "cell_type": "code",
   "execution_count": 1,
   "id": "ecdda30d",
   "metadata": {},
   "outputs": [
    {
     "data": {
      "text/plain": [
       "['yes', 'no']"
      ]
     },
     "execution_count": 1,
     "metadata": {},
     "output_type": "execute_result"
    }
   ],
   "source": [
    "import os\n",
    "\n",
    "ls = os.listdir\n",
    "ls('../dataset')"
   ]
  },
  {
   "cell_type": "code",
   "execution_count": 2,
   "id": "ac201fd7",
   "metadata": {},
   "outputs": [
    {
     "name": "stdout",
     "output_type": "stream",
     "text": [
      "['yes', 'no']\n",
      "['yes', 'no']\n"
     ]
    }
   ],
   "source": [
    "train_dir = \"train\"\n",
    "val_dir = \"valid\"\n",
    "\n",
    "dirs = [\"train\",\"train/yes\", \"train/no\", \"valid\", \"valid/yes\", \"valid/no\"]\n",
    "\n",
    "for _dir in dirs:\n",
    "    if not os.path.exists(_dir):\n",
    "        os.mkdir(_dir)\n",
    "\n",
    "print(ls(\"train\"))\n",
    "print(ls(\"valid\"))"
   ]
  },
  {
   "cell_type": "code",
   "execution_count": 3,
   "id": "bef93fd0",
   "metadata": {},
   "outputs": [],
   "source": [
    "imgs_yes = \"../dataset/yes\"\n",
    "imgs_no = \"../dataset/no\"\n",
    "\n",
    "part_yes = round(0.8 * len(ls(imgs_yes)))\n",
    "part_no = round(0.8 * len(ls(imgs_no)))\n",
    "\n",
    "train_yes = ls(imgs_yes)[0:part_yes]\n",
    "train_no = ls(imgs_no)[0:part_no]\n",
    "\n",
    "valid_yes = ls(imgs_yes)[part_yes:]\n",
    "valid_no = ls(imgs_no)[part_no:]\n",
    "\n",
    "for img in train_yes:\n",
    "    os.system(f\"cp {imgs_yes}/{img} train/yes/{img}\")\n",
    "    \n",
    "for img in train_no:\n",
    "    os.system(f\"cp {imgs_no}/{img} train/no/{img}\")\n",
    "    \n",
    "for img in valid_yes:\n",
    "    os.system(f\"cp {imgs_yes}/{img} valid/yes/{img}\")\n",
    "\n",
    "for img in valid_no:\n",
    "    os.system(f\"cp {imgs_no}/{img} valid/no/{img}\")"
   ]
  },
  {
   "cell_type": "markdown",
   "id": "6d3305cb",
   "metadata": {},
   "source": [
    "## Data Augmentation"
   ]
  },
  {
   "cell_type": "code",
   "execution_count": 4,
   "id": "a17b98b0",
   "metadata": {},
   "outputs": [],
   "source": [
    "training_dir = 'train/'\n",
    "valid_dir = 'valid/'"
   ]
  },
  {
   "cell_type": "code",
   "execution_count": 5,
   "id": "364ec100",
   "metadata": {},
   "outputs": [
    {
     "name": "stdout",
     "output_type": "stream",
     "text": [
      "Found 147 images belonging to 2 classes.\n",
      "Found 36 images belonging to 2 classes.\n"
     ]
    }
   ],
   "source": [
    "from tensorflow.keras.preprocessing.image import ImageDataGenerator\n",
    "\n",
    "train_datagen = ImageDataGenerator(rescale=1./255,\n",
    "                                  rotation_range=20,\n",
    "                                  width_shift_range=0.2,\n",
    "                                  height_shift_range=0.2,\n",
    "                                  shear_range=0.2,\n",
    "                                  zoom_range=0.2,\n",
    "                                  horizontal_flip=True,\n",
    "                                  fill_mode='nearest'\n",
    "                                )\n",
    "\n",
    "valid_datagen = ImageDataGenerator(rescale=1./255)\n",
    "\n",
    "train_generator = train_datagen.flow_from_directory(\n",
    "    training_dir,\n",
    "    target_size=(300, 300),\n",
    "    class_mode='binary'\n",
    ")\n",
    "\n",
    "valid_generator = valid_datagen.flow_from_directory(\n",
    "    valid_dir,\n",
    "    target_size=(300, 300),\n",
    "    class_mode='binary'\n",
    ")"
   ]
  },
  {
   "cell_type": "markdown",
   "id": "d5cdfe95",
   "metadata": {},
   "source": [
    "## Model building"
   ]
  },
  {
   "cell_type": "code",
   "execution_count": 6,
   "id": "e8473fc7",
   "metadata": {},
   "outputs": [
    {
     "name": "stdout",
     "output_type": "stream",
     "text": [
      "Model: \"sequential\"\n",
      "_________________________________________________________________\n",
      "Layer (type)                 Output Shape              Param #   \n",
      "=================================================================\n",
      "conv2d (Conv2D)              (None, 298, 298, 16)      448       \n",
      "_________________________________________________________________\n",
      "max_pooling2d (MaxPooling2D) (None, 149, 149, 16)      0         \n",
      "_________________________________________________________________\n",
      "conv2d_1 (Conv2D)            (None, 147, 147, 32)      4640      \n",
      "_________________________________________________________________\n",
      "max_pooling2d_1 (MaxPooling2 (None, 73, 73, 32)        0         \n",
      "_________________________________________________________________\n",
      "conv2d_2 (Conv2D)            (None, 71, 71, 64)        18496     \n",
      "_________________________________________________________________\n",
      "max_pooling2d_2 (MaxPooling2 (None, 35, 35, 64)        0         \n",
      "_________________________________________________________________\n",
      "conv2d_3 (Conv2D)            (None, 33, 33, 64)        36928     \n",
      "_________________________________________________________________\n",
      "max_pooling2d_3 (MaxPooling2 (None, 16, 16, 64)        0         \n",
      "_________________________________________________________________\n",
      "conv2d_4 (Conv2D)            (None, 14, 14, 64)        36928     \n",
      "_________________________________________________________________\n",
      "max_pooling2d_4 (MaxPooling2 (None, 7, 7, 64)          0         \n",
      "_________________________________________________________________\n",
      "flatten (Flatten)            (None, 3136)              0         \n",
      "_________________________________________________________________\n",
      "dropout (Dropout)            (None, 3136)              0         \n",
      "_________________________________________________________________\n",
      "dense (Dense)                (None, 512)               1606144   \n",
      "_________________________________________________________________\n",
      "dropout_1 (Dropout)          (None, 512)               0         \n",
      "_________________________________________________________________\n",
      "dense_1 (Dense)              (None, 1)                 513       \n",
      "=================================================================\n",
      "Total params: 1,704,097\n",
      "Trainable params: 1,704,097\n",
      "Non-trainable params: 0\n",
      "_________________________________________________________________\n"
     ]
    }
   ],
   "source": [
    "import tensorflow as tf\n",
    "\n",
    "model = tf.keras.models.Sequential([\n",
    "    tf.keras.layers.Conv2D(16, (3,3), activation='relu', input_shape=(300,300,3)),\n",
    "    tf.keras.layers.MaxPooling2D(2, 2),\n",
    "    tf.keras.layers.Conv2D(32, (3,3), activation='relu'),\n",
    "    tf.keras.layers.MaxPooling2D(2, 2),\n",
    "    tf.keras.layers.Conv2D(64, (3,3), activation='relu'),\n",
    "    tf.keras.layers.MaxPooling2D(2, 2),\n",
    "    tf.keras.layers.Conv2D(64, (3,3), activation='relu'),\n",
    "    tf.keras.layers.MaxPooling2D(2, 2),\n",
    "    tf.keras.layers.Conv2D(64, (3,3), activation='relu'),\n",
    "    tf.keras.layers.MaxPooling2D(2, 2),\n",
    "    tf.keras.layers.Flatten(),\n",
    "    tf.keras.layers.Dropout(0.2),\n",
    "    tf.keras.layers.Dense(512, activation='relu'),\n",
    "    tf.keras.layers.Dropout(0.2),\n",
    "    tf.keras.layers.Dense(1, activation='sigmoid')\n",
    "])\n",
    "\n",
    "model.summary()"
   ]
  },
  {
   "cell_type": "code",
   "execution_count": 7,
   "id": "93a98f09",
   "metadata": {},
   "outputs": [
    {
     "name": "stdout",
     "output_type": "stream",
     "text": [
      "Epoch 1/30\n",
      "5/5 [==============================] - 15s 3s/step - loss: 0.4985 - binary_accuracy: 0.7483 - val_loss: 0.4067 - val_binary_accuracy: 0.8611\n",
      "Epoch 2/30\n",
      "5/5 [==============================] - 8s 2s/step - loss: 0.4595 - binary_accuracy: 0.8435 - val_loss: 0.4047 - val_binary_accuracy: 0.8611\n",
      "Epoch 3/30\n",
      "5/5 [==============================] - 11s 2s/step - loss: 0.4328 - binary_accuracy: 0.8435 - val_loss: 0.4112 - val_binary_accuracy: 0.8611\n",
      "Epoch 4/30\n",
      "5/5 [==============================] - 8s 1s/step - loss: 0.4381 - binary_accuracy: 0.8435 - val_loss: 0.4039 - val_binary_accuracy: 0.8611\n",
      "Epoch 5/30\n",
      "5/5 [==============================] - 11s 2s/step - loss: 0.4283 - binary_accuracy: 0.8435 - val_loss: 0.4053 - val_binary_accuracy: 0.8611\n",
      "Epoch 6/30\n",
      "5/5 [==============================] - 8s 1s/step - loss: 0.4257 - binary_accuracy: 0.8435 - val_loss: 0.4089 - val_binary_accuracy: 0.8611\n",
      "Epoch 7/30\n",
      "5/5 [==============================] - 7s 1s/step - loss: 0.4375 - binary_accuracy: 0.8435 - val_loss: 0.4114 - val_binary_accuracy: 0.8611\n",
      "Epoch 8/30\n",
      "5/5 [==============================] - 13s 2s/step - loss: 0.4208 - binary_accuracy: 0.8435 - val_loss: 0.4201 - val_binary_accuracy: 0.8611\n",
      "Epoch 9/30\n",
      "5/5 [==============================] - 7s 1s/step - loss: 0.4402 - binary_accuracy: 0.8435 - val_loss: 0.4132 - val_binary_accuracy: 0.8611\n",
      "Epoch 10/30\n",
      "5/5 [==============================] - 11s 2s/step - loss: 0.4338 - binary_accuracy: 0.8435 - val_loss: 0.4219 - val_binary_accuracy: 0.8611\n",
      "Epoch 11/30\n",
      "5/5 [==============================] - 8s 1s/step - loss: 0.4058 - binary_accuracy: 0.8435 - val_loss: 0.4131 - val_binary_accuracy: 0.8611\n",
      "Epoch 12/30\n",
      "5/5 [==============================] - 11s 2s/step - loss: 0.4142 - binary_accuracy: 0.8435 - val_loss: 0.4102 - val_binary_accuracy: 0.8611\n",
      "Epoch 13/30\n",
      "5/5 [==============================] - 8s 2s/step - loss: 0.4113 - binary_accuracy: 0.8435 - val_loss: 0.4271 - val_binary_accuracy: 0.8611\n",
      "Epoch 14/30\n",
      "5/5 [==============================] - 7s 1s/step - loss: 0.4080 - binary_accuracy: 0.8435 - val_loss: 0.4041 - val_binary_accuracy: 0.8611\n",
      "Epoch 15/30\n",
      "5/5 [==============================] - 11s 2s/step - loss: 0.4350 - binary_accuracy: 0.8435 - val_loss: 0.4005 - val_binary_accuracy: 0.8611\n",
      "Epoch 16/30\n",
      "5/5 [==============================] - 10s 2s/step - loss: 0.4388 - binary_accuracy: 0.8435 - val_loss: 0.4237 - val_binary_accuracy: 0.8611\n",
      "Epoch 17/30\n",
      "5/5 [==============================] - 8s 2s/step - loss: 0.3975 - binary_accuracy: 0.8435 - val_loss: 0.4296 - val_binary_accuracy: 0.8611\n",
      "Epoch 18/30\n",
      "5/5 [==============================] - 7s 1s/step - loss: 0.3902 - binary_accuracy: 0.8435 - val_loss: 0.4133 - val_binary_accuracy: 0.8611\n",
      "Epoch 19/30\n",
      "5/5 [==============================] - 7s 1s/step - loss: 0.4299 - binary_accuracy: 0.8435 - val_loss: 0.4273 - val_binary_accuracy: 0.8611\n",
      "Epoch 20/30\n",
      "5/5 [==============================] - 15s 2s/step - loss: 0.4147 - binary_accuracy: 0.8435 - val_loss: 0.3877 - val_binary_accuracy: 0.8611\n",
      "Epoch 21/30\n",
      "5/5 [==============================] - 7s 1s/step - loss: 0.4222 - binary_accuracy: 0.8435 - val_loss: 0.3886 - val_binary_accuracy: 0.8611\n",
      "Epoch 22/30\n",
      "5/5 [==============================] - 11s 2s/step - loss: 0.3812 - binary_accuracy: 0.8571 - val_loss: 0.3847 - val_binary_accuracy: 0.8611\n",
      "Epoch 23/30\n",
      "5/5 [==============================] - 8s 1s/step - loss: 0.3669 - binary_accuracy: 0.8435 - val_loss: 0.3804 - val_binary_accuracy: 0.8611\n",
      "Epoch 24/30\n",
      "5/5 [==============================] - 7s 1s/step - loss: 0.3707 - binary_accuracy: 0.8639 - val_loss: 0.4018 - val_binary_accuracy: 0.8611\n",
      "Epoch 25/30\n",
      "5/5 [==============================] - 6s 1s/step - loss: 0.3997 - binary_accuracy: 0.8571 - val_loss: 0.3945 - val_binary_accuracy: 0.8889\n",
      "Epoch 26/30\n",
      "5/5 [==============================] - 12s 2s/step - loss: 0.3153 - binary_accuracy: 0.8844 - val_loss: 0.4126 - val_binary_accuracy: 0.8611\n",
      "Epoch 27/30\n",
      "5/5 [==============================] - 7s 1s/step - loss: 0.3794 - binary_accuracy: 0.8571 - val_loss: 0.3720 - val_binary_accuracy: 0.8889\n",
      "Epoch 28/30\n",
      "5/5 [==============================] - 11s 2s/step - loss: 0.3647 - binary_accuracy: 0.8844 - val_loss: 0.3744 - val_binary_accuracy: 0.8889\n",
      "Epoch 29/30\n",
      "5/5 [==============================] - 8s 1s/step - loss: 0.3515 - binary_accuracy: 0.8707 - val_loss: 0.3872 - val_binary_accuracy: 0.8611\n",
      "Epoch 30/30\n",
      "5/5 [==============================] - 7s 1s/step - loss: 0.3948 - binary_accuracy: 0.8435 - val_loss: 0.3899 - val_binary_accuracy: 0.8611\n"
     ]
    }
   ],
   "source": [
    "model.compile(loss='binary_crossentropy',\n",
    "              optimizer='adam',\n",
    "              metrics=['binary_accuracy'])\n",
    "\n",
    "history = model.fit(train_generator, epochs=30, validation_data=valid_generator)"
   ]
  },
  {
   "cell_type": "markdown",
   "id": "05f694d4",
   "metadata": {},
   "source": [
    "## Plotting loss and accuracy"
   ]
  },
  {
   "cell_type": "code",
   "execution_count": 12,
   "id": "1cfc4dd4",
   "metadata": {},
   "outputs": [
    {
     "data": {
      "text/plain": [
       "<AxesSubplot:>"
      ]
     },
     "execution_count": 12,
     "metadata": {},
     "output_type": "execute_result"
    },
    {
     "data": {
      "image/png": "[encoded data removed]",
      "text/plain": [
       "<Figure size 432x288 with 1 Axes>"
      ]
     },
     "metadata": {
      "needs_background": "light"
     },
     "output_type": "display_data"
    },
    {
     "data": {
      "image/png": "[encoded data removed]",
      "text/plain": [
       "<Figure size 432x288 with 1 Axes>"
      ]
     },
     "metadata": {
      "needs_background": "light"
     },
     "output_type": "display_data"
    }
   ],
   "source": [
    "import pandas as pd\n",
    "import matplotlib.pyplot as plt\n",
    "\n",
    "history_df = pd.DataFrame(history.history)\n",
    "\n",
    "history_df.loc[5:, ['loss', 'val_loss']].plot()\n",
    "history_df.loc[5:, ['binary_accuracy', 'val_binary_accuracy']].plot()"
   ]
  }
 ],
 "metadata": {
  "kernelspec": {
   "display_name": "Python 3",
   "language": "python",
   "name": "python3"
  },
  "language_info": {
   "codemirror_mode": {
    "name": "ipython",
    "version": 3
   },
   "file_extension": ".py",
   "mimetype": "text/x-python",
   "name": "python",
   "nbconvert_exporter": "python",
   "pygments_lexer": "ipython3",
   "version": "3.8.10"
  }
 },
 "nbformat": 4,
 "nbformat_minor": 5
}

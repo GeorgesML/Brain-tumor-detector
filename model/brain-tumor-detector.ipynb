{
 "cells": [
  {
   "cell_type": "code",
   "execution_count": 2,
   "id": "0da531ef",
   "metadata": {},
   "outputs": [
    {
     "data": {
      "text/plain": [
       "['yes', 'no']"
      ]
     },
     "execution_count": 2,
     "metadata": {},
     "output_type": "execute_result"
    }
   ],
   "source": [
    "import os\n",
    "\n",
    "os.listdir('../dataset')"
   ]
  },
  {
   "cell_type": "code",
   "execution_count": 4,
   "id": "1f15a6d9",
   "metadata": {},
   "outputs": [],
   "source": [
    "training_dir = '../dataset'"
   ]
  },
  {
   "cell_type": "code",
   "execution_count": 7,
   "id": "7dcfa199",
   "metadata": {},
   "outputs": [
    {
     "name": "stdout",
     "output_type": "stream",
     "text": [
      "Found 253 images belonging to 2 classes.\n"
     ]
    }
   ],
   "source": [
    "from tensorflow.keras.preprocessing.image import ImageDataGenerator\n",
    "\n",
    "train_datagen = ImageDataGenerator(rescale=1/255)\n",
    "\n",
    "train_generator = train_datagen.flow_from_directory(\n",
    "    training_dir,\n",
    "    target_size=(300, 300),\n",
    "    class_mode='binary'\n",
    ")"
   ]
  },
  {
   "cell_type": "code",
   "execution_count": 9,
   "id": "c7ac2738",
   "metadata": {},
   "outputs": [
    {
     "name": "stdout",
     "output_type": "stream",
     "text": [
      "Epoch 1/15\n",
      "8/8 [==============================] - 11s 1s/step - loss: 0.7200 - accuracy: 0.6561\n",
      "Epoch 2/15\n",
      "8/8 [==============================] - 9s 1s/step - loss: 0.6185 - accuracy: 0.6522\n",
      "Epoch 3/15\n",
      "8/8 [==============================] - 9s 1s/step - loss: 0.5460 - accuracy: 0.7352\n",
      "Epoch 4/15\n",
      "8/8 [==============================] - 9s 1s/step - loss: 0.5039 - accuracy: 0.7787\n",
      "Epoch 5/15\n",
      "8/8 [==============================] - 9s 1s/step - loss: 0.5006 - accuracy: 0.7668\n",
      "Epoch 6/15\n",
      "8/8 [==============================] - 9s 1s/step - loss: 0.5010 - accuracy: 0.7826\n",
      "Epoch 7/15\n",
      "8/8 [==============================] - 9s 1s/step - loss: 0.4454 - accuracy: 0.8024\n",
      "Epoch 8/15\n",
      "8/8 [==============================] - 9s 1s/step - loss: 0.4145 - accuracy: 0.7984\n",
      "Epoch 9/15\n",
      "8/8 [==============================] - 9s 1s/step - loss: 0.4203 - accuracy: 0.8261\n",
      "Epoch 10/15\n",
      "8/8 [==============================] - 10s 1s/step - loss: 0.3507 - accuracy: 0.8340\n",
      "Epoch 11/15\n",
      "8/8 [==============================] - 10s 1s/step - loss: 0.2839 - accuracy: 0.8775\n",
      "Epoch 12/15\n",
      "8/8 [==============================] - 9s 1s/step - loss: 0.2975 - accuracy: 0.8696\n",
      "Epoch 13/15\n",
      "8/8 [==============================] - 10s 1s/step - loss: 0.1934 - accuracy: 0.9249\n",
      "Epoch 14/15\n",
      "8/8 [==============================] - 10s 1s/step - loss: 0.1685 - accuracy: 0.9368\n",
      "Epoch 15/15\n",
      "8/8 [==============================] - 9s 1s/step - loss: 0.1192 - accuracy: 0.9526\n"
     ]
    }
   ],
   "source": [
    "import tensorflow as tf\n",
    "\n",
    "model = tf.keras.models.Sequential([\n",
    "    tf.keras.layers.Conv2D(16, (3,3), activation='relu', input_shape=(300,300,3)),\n",
    "    tf.keras.layers.MaxPooling2D(2, 2),\n",
    "    tf.keras.layers.Conv2D(32, (3,3), activation='relu'),\n",
    "    tf.keras.layers.MaxPooling2D(2, 2),\n",
    "    tf.keras.layers.Conv2D(64, (3,3), activation='relu'),\n",
    "    tf.keras.layers.MaxPooling2D(2, 2),\n",
    "    tf.keras.layers.Conv2D(64, (3,3), activation='relu'),\n",
    "    tf.keras.layers.MaxPooling2D(2, 2),\n",
    "    tf.keras.layers.Conv2D(64, (3,3), activation='relu'),\n",
    "    tf.keras.layers.MaxPooling2D(2, 2),\n",
    "    tf.keras.layers.Flatten(),\n",
    "    tf.keras.layers.Dense(512, activation='relu'),\n",
    "    tf.keras.layers.Dense(1, activation='sigmoid')\n",
    "])\n",
    "\n",
    "model.compile(loss='binary_crossentropy',\n",
    "              optimizer='adam',\n",
    "              metrics=['accuracy'])\n",
    "\n",
    "history = model.fit(train_generator, epochs=15)"
   ]
  }
 ],
 "metadata": {
  "kernelspec": {
   "display_name": "Python 3",
   "language": "python",
   "name": "python3"
  },
  "language_info": {
   "codemirror_mode": {
    "name": "ipython",
    "version": 3
   },
   "file_extension": ".py",
   "mimetype": "text/x-python",
   "name": "python",
   "nbconvert_exporter": "python",
   "pygments_lexer": "ipython3",
   "version": "3.8.10"
  }
 },
 "nbformat": 4,
 "nbformat_minor": 5
}
